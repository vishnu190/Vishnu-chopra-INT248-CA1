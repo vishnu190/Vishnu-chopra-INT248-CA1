{
  "nbformat": 4,
  "nbformat_minor": 0,
  "metadata": {
    "colab": {
      "name": "project_LANGUAGE_tRANSLATOR_CA1.ipynb",
      "provenance": [],
      "authorship_tag": "ABX9TyNiy6E6XRhW2kbtUzdiMjhx",
      "include_colab_link": true
    },
    "kernelspec": {
      "name": "python3",
      "display_name": "Python 3"
    },
    "language_info": {
      "name": "python"
    },
    "accelerator": "GPU"
  },
  "cells": [
    {
      "cell_type": "markdown",
      "metadata": {
        "id": "view-in-github",
        "colab_type": "text"
      },
      "source": [
        "<a href=\"https://colab.research.google.com/github/vishnu190/Vishnu-chopra-INT248-CA1/blob/main/project_LANGUAGE_tRANSLATOR_CA1.ipynb\" target=\"_parent\"><img src=\"https://colab.research.google.com/assets/colab-badge.svg\" alt=\"Open In Colab\"/></a>"
      ]
    },
    {
      "cell_type": "code",
      "metadata": {
        "id": "xiIkE6_WmhFt"
      },
      "source": [
        "#Importing library\n",
        "from tensorflow.keras.models import Model\n",
        "from tensorflow.keras.layers import Input, LSTM, Dense\n",
        "import numpy as np\n",
        "import tensorflow as tf"
      ],
      "execution_count": 2,
      "outputs": []
    },
    {
      "cell_type": "code",
      "metadata": {
        "id": "LVkqKTobmx-w"
      },
      "source": [
        "#Hyperparameters\n",
        "batch_size = 64 #batch size for training data\n",
        "latent_dim = 256  #Latent=dimensionality of the encoding space\n",
        "num_samples = 10000  # number of samples to train on\n",
        "epochs=100   # No: of epochs to train for"
      ],
      "execution_count": 3,
      "outputs": []
    },
    {
      "cell_type": "code",
      "metadata": {
        "id": "HFOZ4xZbGdPL"
      },
      "source": [
        "# ********************************reading the data********************************\n",
        "with open('/Language_dataset.txt', 'r', encoding='utf-8') as f: # f is the file \n",
        "  lines=f.read()\n",
        "\n",
        "lines"
      ],
      "execution_count": null,
      "outputs": []
    },
    {
      "cell_type": "code",
      "metadata": {
        "id": "hKmcl2NYm2b9",
        "colab": {
          "base_uri": "https://localhost:8080/"
        },
        "outputId": "c4ab80cb-6fcf-484f-91f9-3e89052873f9"
      },
      "source": [
        "#Vectorize the data.\n",
        "input_texts = []\n",
        "target_texts = []\n",
        "\n",
        "input_chars = set()\n",
        "target_chars = set()\n",
        "\n",
        "with open('/Language_dataset.txt', 'r', encoding='utf-8') as f: # f is the file\n",
        "    lines = f.read().split('\\n')\n",
        "for line in lines[: min(num_samples, len(lines) - 1)]:\n",
        "    input_text, target_text = line.split('\\t') # making a list of strings\n",
        "    target_text = '\\t' + target_text + '\\n'\n",
        "    input_texts.append(input_text)\n",
        "    target_texts.append(target_text)\n",
        "    for char in input_text:\n",
        "        if char not in input_chars:\n",
        "            input_chars.add(char)\n",
        "    for char in target_text:\n",
        "        if char not in target_chars:\n",
        "            target_chars.add(char)\n",
        "\n",
        "input_chars = sorted(list(input_chars)) # arranging in alphabetical order \n",
        "target_chars = sorted(list(target_chars))  # arranging in alphabetical order \n",
        "num_encoder_tokens = len(input_chars)\n",
        "num_decoder_tokens = len(target_chars)\n",
        "max_encoder_seq_length = max([len(txt) for txt in input_texts])\n",
        "max_decoder_seq_length = max([len(txt) for txt in target_texts])\n",
        "\n",
        "#Print size\n",
        "print('Number of samples:', len(input_texts))\n",
        "print('Number of unique input tokens:', num_encoder_tokens)\n",
        "print('Number of unique output tokens:', num_decoder_tokens)\n",
        "print('Max sequence length for inputs:', max_encoder_seq_length)\n",
        "print('Max sequence length for outputs:', max_decoder_seq_length)\n",
        "\n"
      ],
      "execution_count": 6,
      "outputs": [
        {
          "output_type": "stream",
          "name": "stdout",
          "text": [
            "Number of samples: 10000\n",
            "Number of unique input tokens: 71\n",
            "Number of unique output tokens: 93\n",
            "Max sequence length for inputs: 16\n",
            "Max sequence length for outputs: 59\n"
          ]
        }
      ]
    },
    {
      "cell_type": "code",
      "metadata": {
        "id": "AQatxxKHHATp"
      },
      "source": [
        "print(input_chars)"
      ],
      "execution_count": null,
      "outputs": []
    },
    {
      "cell_type": "code",
      "metadata": {
        "id": "oJcFAzj_IBGj"
      },
      "source": [
        "print(target_chars)"
      ],
      "execution_count": null,
      "outputs": []
    },
    {
      "cell_type": "code",
      "metadata": {
        "id": "Cwj2LNvhHoDe"
      },
      "source": [
        "print(input_texts)"
      ],
      "execution_count": null,
      "outputs": []
    },
    {
      "cell_type": "code",
      "metadata": {
        "id": "yKUI47S6HxjN"
      },
      "source": [
        "print(target_texts)"
      ],
      "execution_count": null,
      "outputs": []
    },
    {
      "cell_type": "code",
      "metadata": {
        "colab": {
          "base_uri": "https://localhost:8080/"
        },
        "id": "8b9RCC7dJSdL",
        "outputId": "663c6f8a-89a4-492f-e398-e57af565156d"
      },
      "source": [
        "#Define data for encoder and decoder\n",
        "# assigning every token indexes \n",
        "input_token_id = dict([(char, i) for i, char in enumerate(input_chars)])\n",
        "target_token_id = dict([(char, i) for i, char in enumerate(target_chars)])\n",
        "print(input_token_id)\n",
        "print(target_token_id )"
      ],
      "execution_count": 11,
      "outputs": [
        {
          "output_type": "stream",
          "name": "stdout",
          "text": [
            "{' ': 0, '!': 1, '$': 2, '&': 3, \"'\": 4, ',': 5, '-': 6, '.': 7, '0': 8, '1': 9, '2': 10, '3': 11, '4': 12, '5': 13, '6': 14, '7': 15, '9': 16, ':': 17, '?': 18, 'A': 19, 'B': 20, 'C': 21, 'D': 22, 'E': 23, 'F': 24, 'G': 25, 'H': 26, 'I': 27, 'J': 28, 'K': 29, 'L': 30, 'M': 31, 'N': 32, 'O': 33, 'P': 34, 'Q': 35, 'R': 36, 'S': 37, 'T': 38, 'U': 39, 'V': 40, 'W': 41, 'Y': 42, 'Z': 43, 'a': 44, 'b': 45, 'c': 46, 'd': 47, 'e': 48, 'f': 49, 'g': 50, 'h': 51, 'i': 52, 'j': 53, 'k': 54, 'l': 55, 'm': 56, 'n': 57, 'o': 58, 'p': 59, 'q': 60, 'r': 61, 's': 62, 't': 63, 'u': 64, 'v': 65, 'w': 66, 'x': 67, 'y': 68, 'z': 69, '’': 70}\n",
            "{'\\t': 0, '\\n': 1, ' ': 2, '!': 3, '$': 4, '&': 5, \"'\": 6, '(': 7, ')': 8, ',': 9, '-': 10, '.': 11, '0': 12, '1': 13, '5': 14, '6': 15, '9': 16, ':': 17, '?': 18, 'A': 19, 'B': 20, 'C': 21, 'D': 22, 'E': 23, 'F': 24, 'G': 25, 'H': 26, 'I': 27, 'J': 28, 'K': 29, 'L': 30, 'M': 31, 'N': 32, 'O': 33, 'P': 34, 'Q': 35, 'R': 36, 'S': 37, 'T': 38, 'U': 39, 'V': 40, 'Y': 41, 'Z': 42, 'a': 43, 'b': 44, 'c': 45, 'd': 46, 'e': 47, 'f': 48, 'g': 49, 'h': 50, 'i': 51, 'j': 52, 'k': 53, 'l': 54, 'm': 55, 'n': 56, 'o': 57, 'p': 58, 'q': 59, 'r': 60, 's': 61, 't': 62, 'u': 63, 'v': 64, 'w': 65, 'x': 66, 'y': 67, 'z': 68, '\\xa0': 69, '«': 70, '»': 71, 'À': 72, 'Ç': 73, 'É': 74, 'Ê': 75, 'à': 76, 'â': 77, 'ç': 78, 'è': 79, 'é': 80, 'ê': 81, 'ë': 82, 'î': 83, 'ï': 84, 'ô': 85, 'ù': 86, 'û': 87, 'œ': 88, '\\u2009': 89, '‘': 90, '’': 91, '\\u202f': 92}\n"
          ]
        }
      ]
    },
    {
      "cell_type": "code",
      "metadata": {
        "id": "S4AN-02Mtv2K"
      },
      "source": [
        "# performinf ONR HOT ENCODING  using numpy\n",
        "\n",
        "encoder_in_data = np.zeros(\n",
        "    (len(input_texts), max_encoder_seq_length, num_encoder_tokens),dtype='float32')\n",
        "\n",
        "decoder_in_data = np.zeros(\n",
        "    (len(input_texts), max_decoder_seq_length, num_decoder_tokens), dtype='float32')\n",
        "\n",
        "decoder_target_data = np.zeros(\n",
        "    (len(input_texts), max_decoder_seq_length, num_decoder_tokens), dtype='float32')\n"
      ],
      "execution_count": 12,
      "outputs": []
    },
    {
      "cell_type": "code",
      "metadata": {
        "id": "uYkqok8lLjdR"
      },
      "source": [
        "\n",
        "for i, (input_text, target_text) in enumerate(zip(input_texts, target_texts)):\n",
        "    for t, char in enumerate(input_text):\n",
        "        encoder_in_data[i, t, input_token_id[char]] = 1.\n",
        "    for t, char in enumerate(target_text):\n",
        "        decoder_in_data[i, t, target_token_id[char]] = 1.\n",
        "        if t > 0:\n",
        "            decoder_target_data[i, t - 1, target_token_id[char]] = 1."
      ],
      "execution_count": 13,
      "outputs": []
    },
    {
      "cell_type": "code",
      "metadata": {
        "colab": {
          "base_uri": "https://localhost:8080/"
        },
        "id": "DVeTDZGoMKbU",
        "outputId": "fd474da6-268d-4f1f-cff6-bba96438a495"
      },
      "source": [
        "encoder_in_data[0].shape"
      ],
      "execution_count": 14,
      "outputs": [
        {
          "output_type": "execute_result",
          "data": {
            "text/plain": [
              "(16, 71)"
            ]
          },
          "metadata": {},
          "execution_count": 14
        }
      ]
    },
    {
      "cell_type": "code",
      "metadata": {
        "id": "_dZ-EKO4t4If"
      },
      "source": [
        "#Define and process the input sequence\n",
        "encoder_inputs = Input(shape=(None, num_encoder_tokens))\n",
        "encoder = LSTM(latent_dim, return_state=True)\n",
        "encoder_outputs, state_h, state_c = encoder(encoder_inputs)\n",
        "#We discard `encoder_outputs` and only keep the states.\n",
        "encoder_states = [state_h, state_c]\n",
        "\n",
        "#Using `encoder_states` set up the decoder as initial state.\n",
        "decoder_inputs = Input(shape=(None, num_decoder_tokens))\n",
        "decoder_lstm = LSTM(latent_dim, return_sequences=True, return_state=True)\n",
        "decoder_outputs, _, _ = decoder_lstm(decoder_inputs, initial_state=encoder_states)\n",
        "decoder_dense = Dense(num_decoder_tokens, activation='softmax')\n",
        "decoder_outputs = decoder_dense(decoder_outputs)"
      ],
      "execution_count": 15,
      "outputs": []
    },
    {
      "cell_type": "code",
      "metadata": {
        "id": "AHWxK6jGt8vS"
      },
      "source": [
        "#Final model\n",
        "# Define the model that will turn   \"encoder_input_data\" and \"decoder_input_data\"  into \"decoder_target_data\"\n",
        "model = Model([encoder_inputs, decoder_inputs], decoder_outputs)"
      ],
      "execution_count": 16,
      "outputs": []
    },
    {
      "cell_type": "code",
      "metadata": {
        "colab": {
          "base_uri": "https://localhost:8080/"
        },
        "id": "HXeMuuWJRc_x",
        "outputId": "d6d3de7a-e579-42cf-8f79-26810c4a13fd"
      },
      "source": [
        "#Compiling and training the model\n",
        "model.compile(tf.keras.optimizers.Adam(lr=0.01, beta_1=0.9, beta_2=0.999, decay=0.001), loss='categorical_crossentropy', metrics=['accuracy'])\n",
        "\n",
        "model.fit([encoder_in_data, decoder_in_data], decoder_target_data,\n",
        "          batch_size = batch_size,\n",
        "          epochs=epochs, validation_split=0.2)"
      ],
      "execution_count": 19,
      "outputs": [
        {
          "output_type": "stream",
          "name": "stderr",
          "text": [
            "/usr/local/lib/python3.7/dist-packages/keras/optimizer_v2/adam.py:105: UserWarning: The `lr` argument is deprecated, use `learning_rate` instead.\n",
            "  super(Adam, self).__init__(name, **kwargs)\n"
          ]
        },
        {
          "output_type": "stream",
          "name": "stdout",
          "text": [
            "Epoch 1/100\n",
            "125/125 [==============================] - 9s 44ms/step - loss: 0.4573 - accuracy: 0.1916 - val_loss: 0.6084 - val_accuracy: 0.2014\n",
            "Epoch 2/100\n",
            "125/125 [==============================] - 4s 34ms/step - loss: 0.4150 - accuracy: 0.2032 - val_loss: 0.5878 - val_accuracy: 0.2071\n",
            "Epoch 3/100\n",
            "125/125 [==============================] - 4s 34ms/step - loss: 0.4023 - accuracy: 0.2072 - val_loss: 0.5850 - val_accuracy: 0.2083\n",
            "Epoch 4/100\n",
            "125/125 [==============================] - 4s 34ms/step - loss: 0.3920 - accuracy: 0.2106 - val_loss: 0.5761 - val_accuracy: 0.2113\n",
            "Epoch 5/100\n",
            "125/125 [==============================] - 4s 34ms/step - loss: 0.3807 - accuracy: 0.2137 - val_loss: 0.5663 - val_accuracy: 0.2143\n",
            "Epoch 6/100\n",
            "125/125 [==============================] - 4s 34ms/step - loss: 0.3696 - accuracy: 0.2168 - val_loss: 0.5683 - val_accuracy: 0.2149\n",
            "Epoch 7/100\n",
            "125/125 [==============================] - 4s 34ms/step - loss: 0.3579 - accuracy: 0.2205 - val_loss: 0.5629 - val_accuracy: 0.2161\n",
            "Epoch 8/100\n",
            "125/125 [==============================] - 4s 34ms/step - loss: 0.3483 - accuracy: 0.2235 - val_loss: 0.5691 - val_accuracy: 0.2150\n",
            "Epoch 9/100\n",
            "125/125 [==============================] - 4s 34ms/step - loss: 0.3399 - accuracy: 0.2262 - val_loss: 0.5638 - val_accuracy: 0.2161\n",
            "Epoch 10/100\n",
            "125/125 [==============================] - 4s 33ms/step - loss: 0.3404 - accuracy: 0.2262 - val_loss: 0.5787 - val_accuracy: 0.2117\n",
            "Epoch 11/100\n",
            "125/125 [==============================] - 4s 34ms/step - loss: 0.3372 - accuracy: 0.2271 - val_loss: 0.5549 - val_accuracy: 0.2178\n",
            "Epoch 12/100\n",
            "125/125 [==============================] - 4s 34ms/step - loss: 0.3237 - accuracy: 0.2315 - val_loss: 0.5537 - val_accuracy: 0.2189\n",
            "Epoch 13/100\n",
            "125/125 [==============================] - 4s 34ms/step - loss: 0.3170 - accuracy: 0.2337 - val_loss: 0.5569 - val_accuracy: 0.2179\n",
            "Epoch 14/100\n",
            "125/125 [==============================] - 4s 34ms/step - loss: 0.3132 - accuracy: 0.2347 - val_loss: 0.5681 - val_accuracy: 0.2158\n",
            "Epoch 15/100\n",
            "125/125 [==============================] - 4s 34ms/step - loss: 0.3124 - accuracy: 0.2350 - val_loss: 0.5600 - val_accuracy: 0.2175\n",
            "Epoch 16/100\n",
            "125/125 [==============================] - 4s 34ms/step - loss: 0.3078 - accuracy: 0.2364 - val_loss: 0.5572 - val_accuracy: 0.2192\n",
            "Epoch 17/100\n",
            "125/125 [==============================] - 4s 34ms/step - loss: 0.2994 - accuracy: 0.2393 - val_loss: 0.5562 - val_accuracy: 0.2198\n",
            "Epoch 18/100\n",
            "125/125 [==============================] - 4s 34ms/step - loss: 0.2945 - accuracy: 0.2408 - val_loss: 0.5603 - val_accuracy: 0.2177\n",
            "Epoch 19/100\n",
            "125/125 [==============================] - 4s 33ms/step - loss: 0.2891 - accuracy: 0.2427 - val_loss: 0.5574 - val_accuracy: 0.2185\n",
            "Epoch 20/100\n",
            "125/125 [==============================] - 4s 34ms/step - loss: 0.2872 - accuracy: 0.2431 - val_loss: 0.5566 - val_accuracy: 0.2189\n",
            "Epoch 21/100\n",
            "125/125 [==============================] - 4s 34ms/step - loss: 0.2898 - accuracy: 0.2424 - val_loss: 0.5653 - val_accuracy: 0.2168\n",
            "Epoch 22/100\n",
            "125/125 [==============================] - 4s 33ms/step - loss: 0.2888 - accuracy: 0.2425 - val_loss: 0.5565 - val_accuracy: 0.2200\n",
            "Epoch 23/100\n",
            "125/125 [==============================] - 4s 34ms/step - loss: 0.2772 - accuracy: 0.2466 - val_loss: 0.5591 - val_accuracy: 0.2193\n",
            "Epoch 24/100\n",
            "125/125 [==============================] - 4s 34ms/step - loss: 0.2715 - accuracy: 0.2486 - val_loss: 0.5578 - val_accuracy: 0.2193\n",
            "Epoch 25/100\n",
            "125/125 [==============================] - 4s 34ms/step - loss: 0.2681 - accuracy: 0.2501 - val_loss: 0.5601 - val_accuracy: 0.2191\n",
            "Epoch 26/100\n",
            "125/125 [==============================] - 4s 34ms/step - loss: 0.2635 - accuracy: 0.2514 - val_loss: 0.5620 - val_accuracy: 0.2184\n",
            "Epoch 27/100\n",
            "125/125 [==============================] - 4s 34ms/step - loss: 0.2613 - accuracy: 0.2523 - val_loss: 0.5652 - val_accuracy: 0.2178\n",
            "Epoch 28/100\n",
            "125/125 [==============================] - 4s 33ms/step - loss: 0.2576 - accuracy: 0.2535 - val_loss: 0.5690 - val_accuracy: 0.2168\n",
            "Epoch 29/100\n",
            "125/125 [==============================] - 4s 33ms/step - loss: 0.2558 - accuracy: 0.2543 - val_loss: 0.5623 - val_accuracy: 0.2186\n",
            "Epoch 30/100\n",
            "125/125 [==============================] - 4s 34ms/step - loss: 0.2555 - accuracy: 0.2544 - val_loss: 0.5735 - val_accuracy: 0.2156\n",
            "Epoch 31/100\n",
            "125/125 [==============================] - 4s 33ms/step - loss: 0.2552 - accuracy: 0.2544 - val_loss: 0.5656 - val_accuracy: 0.2181\n",
            "Epoch 32/100\n",
            "125/125 [==============================] - 4s 33ms/step - loss: 0.2496 - accuracy: 0.2565 - val_loss: 0.5673 - val_accuracy: 0.2181\n",
            "Epoch 33/100\n",
            "125/125 [==============================] - 4s 34ms/step - loss: 0.2469 - accuracy: 0.2573 - val_loss: 0.5690 - val_accuracy: 0.2170\n",
            "Epoch 34/100\n",
            "125/125 [==============================] - 4s 33ms/step - loss: 0.2435 - accuracy: 0.2584 - val_loss: 0.5678 - val_accuracy: 0.2173\n",
            "Epoch 35/100\n",
            "125/125 [==============================] - 4s 33ms/step - loss: 0.2404 - accuracy: 0.2600 - val_loss: 0.5647 - val_accuracy: 0.2191\n",
            "Epoch 36/100\n",
            "125/125 [==============================] - 4s 33ms/step - loss: 0.2383 - accuracy: 0.2603 - val_loss: 0.5708 - val_accuracy: 0.2179\n",
            "Epoch 37/100\n",
            "125/125 [==============================] - 4s 34ms/step - loss: 0.2379 - accuracy: 0.2606 - val_loss: 0.5681 - val_accuracy: 0.2179\n",
            "Epoch 38/100\n",
            "125/125 [==============================] - 4s 34ms/step - loss: 0.2340 - accuracy: 0.2619 - val_loss: 0.5738 - val_accuracy: 0.2164\n",
            "Epoch 39/100\n",
            "125/125 [==============================] - 4s 34ms/step - loss: 0.2317 - accuracy: 0.2625 - val_loss: 0.5730 - val_accuracy: 0.2177\n",
            "Epoch 40/100\n",
            "125/125 [==============================] - 4s 34ms/step - loss: 0.2298 - accuracy: 0.2634 - val_loss: 0.5731 - val_accuracy: 0.2171\n",
            "Epoch 41/100\n",
            "125/125 [==============================] - 4s 34ms/step - loss: 0.2286 - accuracy: 0.2636 - val_loss: 0.5764 - val_accuracy: 0.2162\n",
            "Epoch 42/100\n",
            "125/125 [==============================] - 4s 34ms/step - loss: 0.2272 - accuracy: 0.2641 - val_loss: 0.5729 - val_accuracy: 0.2169\n",
            "Epoch 43/100\n",
            "125/125 [==============================] - 4s 33ms/step - loss: 0.2244 - accuracy: 0.2652 - val_loss: 0.5753 - val_accuracy: 0.2166\n",
            "Epoch 44/100\n",
            "125/125 [==============================] - 4s 33ms/step - loss: 0.2223 - accuracy: 0.2660 - val_loss: 0.5768 - val_accuracy: 0.2170\n",
            "Epoch 45/100\n",
            "125/125 [==============================] - 4s 34ms/step - loss: 0.2204 - accuracy: 0.2666 - val_loss: 0.5817 - val_accuracy: 0.2158\n",
            "Epoch 46/100\n",
            "125/125 [==============================] - 4s 34ms/step - loss: 0.2188 - accuracy: 0.2670 - val_loss: 0.5791 - val_accuracy: 0.2162\n",
            "Epoch 47/100\n",
            "125/125 [==============================] - 4s 34ms/step - loss: 0.2176 - accuracy: 0.2676 - val_loss: 0.5804 - val_accuracy: 0.2165\n",
            "Epoch 48/100\n",
            "125/125 [==============================] - 4s 33ms/step - loss: 0.2167 - accuracy: 0.2676 - val_loss: 0.5822 - val_accuracy: 0.2153\n",
            "Epoch 49/100\n",
            "125/125 [==============================] - 4s 34ms/step - loss: 0.2142 - accuracy: 0.2686 - val_loss: 0.5823 - val_accuracy: 0.2165\n",
            "Epoch 50/100\n",
            "125/125 [==============================] - 4s 34ms/step - loss: 0.2133 - accuracy: 0.2689 - val_loss: 0.5809 - val_accuracy: 0.2169\n",
            "Epoch 51/100\n",
            "125/125 [==============================] - 4s 33ms/step - loss: 0.2119 - accuracy: 0.2696 - val_loss: 0.5845 - val_accuracy: 0.2156\n",
            "Epoch 52/100\n",
            "125/125 [==============================] - 4s 34ms/step - loss: 0.2103 - accuracy: 0.2700 - val_loss: 0.5830 - val_accuracy: 0.2161\n",
            "Epoch 53/100\n",
            "125/125 [==============================] - 4s 34ms/step - loss: 0.2082 - accuracy: 0.2710 - val_loss: 0.5845 - val_accuracy: 0.2162\n",
            "Epoch 54/100\n",
            "125/125 [==============================] - 4s 34ms/step - loss: 0.2074 - accuracy: 0.2709 - val_loss: 0.5836 - val_accuracy: 0.2156\n",
            "Epoch 55/100\n",
            "125/125 [==============================] - 4s 34ms/step - loss: 0.2091 - accuracy: 0.2703 - val_loss: 0.5869 - val_accuracy: 0.2151\n",
            "Epoch 56/100\n",
            "125/125 [==============================] - 4s 34ms/step - loss: 0.2075 - accuracy: 0.2709 - val_loss: 0.5855 - val_accuracy: 0.2157\n",
            "Epoch 57/100\n",
            "125/125 [==============================] - 4s 33ms/step - loss: 0.2038 - accuracy: 0.2722 - val_loss: 0.5875 - val_accuracy: 0.2155\n",
            "Epoch 58/100\n",
            "125/125 [==============================] - 4s 33ms/step - loss: 0.2018 - accuracy: 0.2730 - val_loss: 0.5897 - val_accuracy: 0.2152\n",
            "Epoch 59/100\n",
            "125/125 [==============================] - 4s 34ms/step - loss: 0.2003 - accuracy: 0.2735 - val_loss: 0.5919 - val_accuracy: 0.2147\n",
            "Epoch 60/100\n",
            "125/125 [==============================] - 4s 34ms/step - loss: 0.2002 - accuracy: 0.2736 - val_loss: 0.5900 - val_accuracy: 0.2149\n",
            "Epoch 61/100\n",
            "125/125 [==============================] - 4s 34ms/step - loss: 0.1988 - accuracy: 0.2739 - val_loss: 0.5919 - val_accuracy: 0.2146\n",
            "Epoch 62/100\n",
            "125/125 [==============================] - 4s 33ms/step - loss: 0.1974 - accuracy: 0.2747 - val_loss: 0.5938 - val_accuracy: 0.2140\n",
            "Epoch 63/100\n",
            "125/125 [==============================] - 4s 33ms/step - loss: 0.1968 - accuracy: 0.2747 - val_loss: 0.5919 - val_accuracy: 0.2142\n",
            "Epoch 64/100\n",
            "125/125 [==============================] - 4s 33ms/step - loss: 0.1960 - accuracy: 0.2750 - val_loss: 0.5948 - val_accuracy: 0.2143\n",
            "Epoch 65/100\n",
            "125/125 [==============================] - 4s 34ms/step - loss: 0.1953 - accuracy: 0.2749 - val_loss: 0.5972 - val_accuracy: 0.2144\n",
            "Epoch 66/100\n",
            "125/125 [==============================] - 4s 34ms/step - loss: 0.1942 - accuracy: 0.2756 - val_loss: 0.5953 - val_accuracy: 0.2143\n",
            "Epoch 67/100\n",
            "125/125 [==============================] - 4s 34ms/step - loss: 0.1930 - accuracy: 0.2761 - val_loss: 0.5950 - val_accuracy: 0.2144\n",
            "Epoch 68/100\n",
            "125/125 [==============================] - 4s 33ms/step - loss: 0.1918 - accuracy: 0.2764 - val_loss: 0.5962 - val_accuracy: 0.2140\n",
            "Epoch 69/100\n",
            "125/125 [==============================] - 4s 34ms/step - loss: 0.1910 - accuracy: 0.2767 - val_loss: 0.5951 - val_accuracy: 0.2144\n",
            "Epoch 70/100\n",
            "125/125 [==============================] - 4s 34ms/step - loss: 0.1904 - accuracy: 0.2768 - val_loss: 0.5973 - val_accuracy: 0.2134\n",
            "Epoch 71/100\n",
            "125/125 [==============================] - 4s 34ms/step - loss: 0.1893 - accuracy: 0.2772 - val_loss: 0.5999 - val_accuracy: 0.2131\n",
            "Epoch 72/100\n",
            "125/125 [==============================] - 4s 34ms/step - loss: 0.1889 - accuracy: 0.2773 - val_loss: 0.6009 - val_accuracy: 0.2137\n",
            "Epoch 73/100\n",
            "125/125 [==============================] - 4s 34ms/step - loss: 0.1879 - accuracy: 0.2777 - val_loss: 0.6007 - val_accuracy: 0.2137\n",
            "Epoch 74/100\n",
            "125/125 [==============================] - 4s 34ms/step - loss: 0.1875 - accuracy: 0.2778 - val_loss: 0.6029 - val_accuracy: 0.2124\n",
            "Epoch 75/100\n",
            "125/125 [==============================] - 4s 34ms/step - loss: 0.1863 - accuracy: 0.2784 - val_loss: 0.5999 - val_accuracy: 0.2140\n",
            "Epoch 76/100\n",
            "125/125 [==============================] - 4s 33ms/step - loss: 0.1850 - accuracy: 0.2789 - val_loss: 0.6003 - val_accuracy: 0.2137\n",
            "Epoch 77/100\n",
            "125/125 [==============================] - 4s 34ms/step - loss: 0.1840 - accuracy: 0.2789 - val_loss: 0.6015 - val_accuracy: 0.2132\n",
            "Epoch 78/100\n",
            "125/125 [==============================] - 4s 33ms/step - loss: 0.1835 - accuracy: 0.2791 - val_loss: 0.6018 - val_accuracy: 0.2134\n",
            "Epoch 79/100\n",
            "125/125 [==============================] - 4s 34ms/step - loss: 0.1829 - accuracy: 0.2794 - val_loss: 0.6042 - val_accuracy: 0.2127\n",
            "Epoch 80/100\n",
            "125/125 [==============================] - 4s 33ms/step - loss: 0.1821 - accuracy: 0.2796 - val_loss: 0.6054 - val_accuracy: 0.2129\n",
            "Epoch 81/100\n",
            "125/125 [==============================] - 4s 33ms/step - loss: 0.1815 - accuracy: 0.2797 - val_loss: 0.6075 - val_accuracy: 0.2122\n",
            "Epoch 82/100\n",
            "125/125 [==============================] - 4s 34ms/step - loss: 0.1813 - accuracy: 0.2798 - val_loss: 0.6057 - val_accuracy: 0.2130\n",
            "Epoch 83/100\n",
            "125/125 [==============================] - 4s 34ms/step - loss: 0.1803 - accuracy: 0.2801 - val_loss: 0.6094 - val_accuracy: 0.2126\n",
            "Epoch 84/100\n",
            "125/125 [==============================] - 4s 33ms/step - loss: 0.1806 - accuracy: 0.2799 - val_loss: 0.6075 - val_accuracy: 0.2124\n",
            "Epoch 85/100\n",
            "125/125 [==============================] - 4s 34ms/step - loss: 0.1795 - accuracy: 0.2807 - val_loss: 0.6052 - val_accuracy: 0.2133\n",
            "Epoch 86/100\n",
            "125/125 [==============================] - 4s 33ms/step - loss: 0.1779 - accuracy: 0.2810 - val_loss: 0.6081 - val_accuracy: 0.2122\n",
            "Epoch 87/100\n",
            "125/125 [==============================] - 4s 34ms/step - loss: 0.1774 - accuracy: 0.2810 - val_loss: 0.6110 - val_accuracy: 0.2120\n",
            "Epoch 88/100\n",
            "125/125 [==============================] - 4s 34ms/step - loss: 0.1786 - accuracy: 0.2807 - val_loss: 0.6094 - val_accuracy: 0.2126\n",
            "Epoch 89/100\n",
            "125/125 [==============================] - 4s 34ms/step - loss: 0.1768 - accuracy: 0.2811 - val_loss: 0.6099 - val_accuracy: 0.2123\n",
            "Epoch 90/100\n",
            "125/125 [==============================] - 4s 34ms/step - loss: 0.1759 - accuracy: 0.2815 - val_loss: 0.6101 - val_accuracy: 0.2121\n",
            "Epoch 91/100\n",
            "125/125 [==============================] - 4s 34ms/step - loss: 0.1751 - accuracy: 0.2820 - val_loss: 0.6118 - val_accuracy: 0.2118\n",
            "Epoch 92/100\n",
            "125/125 [==============================] - 4s 34ms/step - loss: 0.1744 - accuracy: 0.2820 - val_loss: 0.6120 - val_accuracy: 0.2121\n",
            "Epoch 93/100\n",
            "125/125 [==============================] - 4s 34ms/step - loss: 0.1739 - accuracy: 0.2824 - val_loss: 0.6116 - val_accuracy: 0.2124\n",
            "Epoch 94/100\n",
            "125/125 [==============================] - 4s 34ms/step - loss: 0.1738 - accuracy: 0.2821 - val_loss: 0.6115 - val_accuracy: 0.2119\n",
            "Epoch 95/100\n",
            "125/125 [==============================] - 4s 33ms/step - loss: 0.1730 - accuracy: 0.2827 - val_loss: 0.6122 - val_accuracy: 0.2123\n",
            "Epoch 96/100\n",
            "125/125 [==============================] - 4s 33ms/step - loss: 0.1722 - accuracy: 0.2828 - val_loss: 0.6141 - val_accuracy: 0.2115\n",
            "Epoch 97/100\n",
            "125/125 [==============================] - 4s 34ms/step - loss: 0.1717 - accuracy: 0.2829 - val_loss: 0.6153 - val_accuracy: 0.2109\n",
            "Epoch 98/100\n",
            "125/125 [==============================] - 4s 34ms/step - loss: 0.1712 - accuracy: 0.2832 - val_loss: 0.6136 - val_accuracy: 0.2116\n",
            "Epoch 99/100\n",
            "125/125 [==============================] - 4s 34ms/step - loss: 0.1710 - accuracy: 0.2832 - val_loss: 0.6154 - val_accuracy: 0.2107\n",
            "Epoch 100/100\n",
            "125/125 [==============================] - 4s 33ms/step - loss: 0.1700 - accuracy: 0.2835 - val_loss: 0.6156 - val_accuracy: 0.2115\n"
          ]
        },
        {
          "output_type": "execute_result",
          "data": {
            "text/plain": [
              "<keras.callbacks.History at 0x7f24e863ff10>"
            ]
          },
          "metadata": {},
          "execution_count": 19
        }
      ]
    },
    {
      "cell_type": "code",
      "metadata": {
        "colab": {
          "base_uri": "https://localhost:8080/"
        },
        "id": "8OxsgIkEuE26",
        "outputId": "37b51492-6301-46b8-ef95-33cbe4744b38"
      },
      "source": [
        "#Model data Shape\n",
        "print(\"encoder_in_data shape:\",encoder_in_data.shape)\n",
        "print(\"decoder_in_data shape:\",decoder_in_data.shape)\n",
        "print(\"decoder_target_data shape:\",decoder_target_data.shape)\n"
      ],
      "execution_count": 20,
      "outputs": [
        {
          "output_type": "stream",
          "name": "stdout",
          "text": [
            "encoder_in_data shape: (10000, 16, 71)\n",
            "decoder_in_data shape: (10000, 59, 93)\n",
            "decoder_target_data shape: (10000, 59, 93)\n"
          ]
        }
      ]
    },
    {
      "cell_type": "code",
      "metadata": {
        "id": "6lXyh1Isy63a"
      },
      "source": [
        "#Define sampling models\n",
        "encoder_model = Model(encoder_inputs, encoder_states)\n",
        "decoder_state_input_h = Input(shape=(latent_dim,))\n",
        "decoder_state_input_c = Input(shape=(latent_dim,))\n",
        "decoder_states_inputs = [decoder_state_input_h, decoder_state_input_c]\n",
        "decoder_outputs, state_h, state_c = decoder_lstm(decoder_inputs, initial_state=decoder_states_inputs)\n",
        "decoder_states = [state_h, state_c]\n",
        "decoder_outputs = decoder_dense(decoder_outputs)\n",
        "decoder_model = Model([decoder_inputs] + decoder_states_inputs, [decoder_outputs] + decoder_states)"
      ],
      "execution_count": 22,
      "outputs": []
    },
    {
      "cell_type": "code",
      "metadata": {
        "id": "5b-FxmcbzHFm"
      },
      "source": [
        "# reverse-lookup token index to decode sequence back to something readable\n",
        "reverse_input_char_index = dict((i, char) for char, i in input_token_id.items())\n",
        "reverse_target_char_index = dict((i, char) for char, i in target_token_id.items())\n",
        "\n",
        "#Define Decode Sequence\n",
        "def decode_sequence(input_seq):\n",
        "    #Encode the input as state vectors.\n",
        "    states_value = encoder_model.predict(input_seq)\n",
        "\n",
        "    #Generate empty target sequence of length 1.\n",
        "    target_seq = np.zeros((1, 1, num_decoder_tokens))\n",
        "    #Get the first character of target sequence with the start character.\n",
        "    target_seq[0, 0, target_token_id['\\t']] = 1.\n",
        "\n",
        "    #Sampling loop for a batch of sequences\n",
        "    #(to simplify, here we assume a batch of size 1).\n",
        "    stop_condition = False\n",
        "    decoded_sentence = ''\n",
        "    while not stop_condition:\n",
        "        output_tokens, h, c = decoder_model.predict([target_seq] + states_value)\n",
        "\n",
        "        #Sample a token\n",
        "        sampled_token_index = np.argmax(output_tokens[0, -1, :])\n",
        "        sampled_char = reverse_target_char_index[sampled_token_index]\n",
        "        decoded_sentence += sampled_char\n",
        "\n",
        "        #Exit condition: either hit max length\n",
        "        #or find stop character.\n",
        "        if (sampled_char == '\\n' or\n",
        "           len(decoded_sentence) > max_decoder_seq_length):\n",
        "            stop_condition = True\n",
        "\n",
        "        #Update the target sequence (of length 1).\n",
        "        target_seq = np.zeros((1, 1, num_decoder_tokens))\n",
        "        target_seq[0, 0, sampled_token_index] = 1.\n",
        "\n",
        "        #Update states\n",
        "        states_value = [h, c]\n",
        "\n",
        "    return decoded_sentence"
      ],
      "execution_count": 23,
      "outputs": []
    },
    {
      "cell_type": "code",
      "metadata": {
        "colab": {
          "base_uri": "https://localhost:8080/"
        },
        "id": "ASCT45YTzP1B",
        "outputId": "edaf7364-8108-4581-c8f5-a17006291db3"
      },
      "source": [
        "for seq_index in range(20): # we can increase the range to check all the outcomes , but i am keeping it 20 \n",
        "  #take one sequense(part of the raining set)\n",
        "  # for trying out decodong\n",
        "    input_seq = encoder_in_data[seq_index: seq_index + 1]\n",
        "    decoded_sentence = decode_sequence(input_seq)\n",
        "    print('-')\n",
        "    print('Input sentence:', input_texts[seq_index])\n",
        "    print('Decoded sentence:', decoded_sentence)\n"
      ],
      "execution_count": 27,
      "outputs": [
        {
          "output_type": "stream",
          "name": "stdout",
          "text": [
            "-\n",
            "Input sentence: Go.\n",
            "Decoded sentence: Sait.\n",
            "\n",
            "-\n",
            "Input sentence: Run!\n",
            "Decoded sentence: Courez !\n",
            "\n",
            "-\n",
            "Input sentence: Run!\n",
            "Decoded sentence: Courez !\n",
            "\n",
            "-\n",
            "Input sentence: Wow!\n",
            "Decoded sentence: Ça alors.\n",
            "\n",
            "-\n",
            "Input sentence: Fire!\n",
            "Decoded sentence: Attendrer.\n",
            "\n",
            "-\n",
            "Input sentence: Help!\n",
            "Decoded sentence: wouvii.\n",
            "\n",
            "-\n",
            "Input sentence: Jump.\n",
            "Decoded sentence: Sarte.\n",
            "\n",
            "-\n",
            "Input sentence: Stop!\n",
            "Decoded sentence: Arrête-toi.\n",
            "\n",
            "-\n",
            "Input sentence: Stop!\n",
            "Decoded sentence: Arrête-toi.\n",
            "\n",
            "-\n",
            "Input sentence: Stop!\n",
            "Decoded sentence: Arrête-toi.\n",
            "\n",
            "-\n",
            "Input sentence: Wait!\n",
            "Decoded sentence: Attends !\n",
            "\n",
            "-\n",
            "Input sentence: Wait!\n",
            "Decoded sentence: Attends !\n",
            "\n",
            "-\n",
            "Input sentence: I see.\n",
            "Decoded sentence: Je comprend.\n",
            "\n",
            "-\n",
            "Input sentence: I try.\n",
            "Decoded sentence: J'essaye.\n",
            "\n",
            "-\n",
            "Input sentence: I won!\n",
            "Decoded sentence: J'ai gagné !\n",
            "\n",
            "-\n",
            "Input sentence: I won!\n",
            "Decoded sentence: J'ai gagné !\n",
            "\n",
            "-\n",
            "Input sentence: Oh no!\n",
            "Decoded sentence: Je vous peue pas.\n",
            "\n",
            "-\n",
            "Input sentence: Attack!\n",
            "Decoded sentence: Attaque !\n",
            "\n",
            "-\n",
            "Input sentence: Attack!\n",
            "Decoded sentence: Attaque !\n",
            "\n",
            "-\n",
            "Input sentence: Cheers!\n",
            "Decoded sentence: Rescez ?\n",
            "\n"
          ]
        }
      ]
    },
    {
      "cell_type": "markdown",
      "metadata": {
        "id": "xNtHLosoXN4u"
      },
      "source": [
        ""
      ]
    }
  ]
}